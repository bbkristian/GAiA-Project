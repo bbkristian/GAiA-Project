{
 "cells": [
  {
   "cell_type": "code",
   "execution_count": 1,
   "id": "23960822",
   "metadata": {},
   "outputs": [],
   "source": [
    "import numpy as np\n",
    "import pandas as pd\n",
    "import networkx as nx\n",
    "import os\n",
    "import math\n",
    "import re"
   ]
  },
  {
   "cell_type": "code",
   "execution_count": 2,
   "id": "bd6f5573",
   "metadata": {},
   "outputs": [],
   "source": [
    "os.chdir('C:/Users\\kristian\\OneDrive\\Desktop\\EMD')"
   ]
  },
  {
   "cell_type": "code",
   "execution_count": 3,
   "id": "9201aa14",
   "metadata": {},
   "outputs": [],
   "source": [
    "def EMD_file(file1, file2):\n",
    "    if file1 == file2:\n",
    "        distance = 0.0\n",
    "    else:\n",
    "        \n",
    "        # set distributions to 0\n",
    "        dist1 = np.zeros(24)\n",
    "        dist2 = np.zeros(24)\n",
    "        \n",
    "        # import and clean datasets\n",
    "        ds1 = pd.read_csv(f\"{file1}\", delimiter=\",\")\n",
    "        ds1 = ds1.drop(ds1.index[-2:])\n",
    "        ds2 = pd.read_csv(f\"{file2}\", delimiter = \",\")\n",
    "        ds2 = ds2.drop(ds2.index[-2:])\n",
    "        \n",
    "        # append to distributions the values of 'NORMALIZED ENERGY'\n",
    "        for i in range(24):\n",
    "            dist1[i] = ds1['NORMALIZED ENERGY'][i]/sum(ds1['NORMALIZED ENERGY'])\n",
    "            dist2[i] = ds2['NORMALIZED ENERGY'][i]/sum(ds2['NORMALIZED ENERGY'])\n",
    "        \n",
    "        # create lists with values and indices of non-zero entries of distributions\n",
    "        l1 = []\n",
    "        l2 = []\n",
    "        for i in range(24):\n",
    "            l1.append((dist1[i],i))\n",
    "        for i in range(24):\n",
    "            l2.append((dist2[i],i))\n",
    "        \n",
    "        # initialise graph\n",
    "        g = nx.DiGraph()\n",
    "        \n",
    "        # create nodes\n",
    "        g.add_node('s', demand = -1)\n",
    "        g.add_node('t', demand = 1)\n",
    "        for i in range(len(l1)):\n",
    "            #g.add_node(l1[i], demand = -l1[i][0])\n",
    "            g.add_node(l1[i])\n",
    "        for i in range(len(l2)):\n",
    "            #g.add_node(l2[i], demand = l2[i][0])\n",
    "            g.add_node(l2[i])\n",
    "        \n",
    "        # create edges\n",
    "        g.add_edge('s','t', capacity = 1e-6, weight = 0)\n",
    "        for i in range(len(l1)):\n",
    "            g.add_edge('s', l1[i], capacity = l1[i][0])\n",
    "        for i in range(len(l2)):\n",
    "            g.add_edge(l2[i], 't', capacity = l2[i][0])\n",
    "        for i in range(24):\n",
    "            for j in range(24):\n",
    "                g.add_edge(l1[i], l2[j], weight = abs((l2[j][1]-l1[i][1])%24), capacity = max(l1[i][0],l2[i][0]))\n",
    "        distance = nx.min_cost_flow_cost(g)\n",
    "        \n",
    "        # output\n",
    "        return distance\n",
    "        \n",
    "        "
   ]
  },
  {
   "cell_type": "code",
   "execution_count": 4,
   "id": "5dd86681",
   "metadata": {},
   "outputs": [],
   "source": [
    "def EMD_list(file1, list):\n",
    "\n",
    "    # set distributions to 0\n",
    "    dist1 = np.zeros(24)\n",
    "    dist2 = np.zeros(24)\n",
    "\n",
    "    # import and clean datasets\n",
    "    ds1 = pd.read_csv(f\"{file1}\", delimiter=\",\")\n",
    "    ds1 = ds1.drop(ds1.index[-2:])\n",
    "\n",
    "    # append to distributions the values of 'NORMALIZED ENERGY'\n",
    "    for i in range(24):\n",
    "        dist1[i] = ds1['NORMALIZED ENERGY'][i]/sum(ds1['NORMALIZED ENERGY'])\n",
    "        dist2[i] = list[i]/sum(list)\n",
    "\n",
    "    # create lists with values and indices of non-zero entries of distributions\n",
    "    l1 = []\n",
    "    l2 = []\n",
    "    for i in range(24):\n",
    "        l1.append((dist1[i],i))\n",
    "    for i in range(24):\n",
    "        l2.append((dist2[i],i))\n",
    "\n",
    "    # initialise graph\n",
    "    g = nx.DiGraph()\n",
    "\n",
    "    # create nodes\n",
    "    g.add_node('s', demand = -1)\n",
    "    g.add_node('t', demand = 1)\n",
    "    for i in range(len(l1)):\n",
    "        #g.add_node(l1[i], demand = -l1[i][0])\n",
    "        g.add_node(l1[i])\n",
    "    for i in range(len(l2)):\n",
    "        #g.add_node(l2[i], demand = l2[i][0])\n",
    "        g.add_node(l2[i])\n",
    "\n",
    "    # create edges\n",
    "    g.add_edge('s','t', capacity = 1e-6, weight = 0)\n",
    "    for i in range(len(l1)):\n",
    "        g.add_edge('s', l1[i], capacity = l1[i][0])\n",
    "    for i in range(len(l2)):\n",
    "        g.add_edge(l2[i], 't', capacity = l2[i][0])\n",
    "    for i in range(24):\n",
    "        for j in range(24):\n",
    "            g.add_edge(l1[i], l2[j], weight = abs((l2[j][1]-l1[i][1])%24), capacity = max(l1[i][0],l2[i][0]))\n",
    "    distance = nx.min_cost_flow_cost(g)\n",
    "        \n",
    "    # output\n",
    "    return distance"
   ]
  },
  {
   "cell_type": "code",
   "execution_count": 5,
   "id": "adccf40a",
   "metadata": {},
   "outputs": [],
   "source": [
    "def sort_files(house):\n",
    "    files = ['community1.csv', 'community2.csv']\n",
    "    sorted_files = sorted(files, key = lambda x: EMD_file(f\"{house}\", x), reverse = True)\n",
    "    return(sorted_files)"
   ]
  },
  {
   "cell_type": "code",
   "execution_count": 6,
   "id": "38dd0b8d",
   "metadata": {},
   "outputs": [
    {
     "name": "stdout",
     "output_type": "stream",
     "text": [
      "house1:\n",
      "['community1.csv', 'community2.csv']\n",
      "house2:\n",
      "['community2.csv', 'community1.csv']\n",
      "house3:\n",
      "['community1.csv', 'community2.csv']\n",
      "house4:\n",
      "['community1.csv', 'community2.csv']\n"
     ]
    }
   ],
   "source": [
    "for i in range(4):\n",
    "    print(f'house{i+1}:')\n",
    "    print(sort_files(f'house{i+1}.csv'))"
   ]
  },
  {
   "cell_type": "code",
   "execution_count": 8,
   "id": "5d74bf59",
   "metadata": {
    "scrolled": true
   },
   "outputs": [
    {
     "name": "stdout",
     "output_type": "stream",
     "text": [
      "In what hourly time-slots are you usually at home? (e.g. 00 - 06, 14 - 18, 21 - 24): 04-15\n",
      "Community 1: 49%\n",
      "Community 2: 51%\n",
      "Your optimal community is Community 2!\n"
     ]
    }
   ],
   "source": [
    "while True:\n",
    "    time_slots = input(\"In what hourly time-slots are you usually at home? (e.g. 00 - 06, 14 - 18, 21 - 24): \")\n",
    "\n",
    "    # Split the input into individual time slots\n",
    "    slots = time_slots.split(',')\n",
    "\n",
    "    # Check if the input is valid\n",
    "    valid_input = True\n",
    "    for slot in slots:\n",
    "        slot = slot.strip()\n",
    "        if not re.match(r'^\\d{2}\\s*-\\s*\\d{2}$', slot):\n",
    "            valid_input = False\n",
    "            break\n",
    "        start, end = map(int, slot.split('-'))\n",
    "        if start < 0 or start > 24 or end < 0 or end > 24 or start >= end:\n",
    "            valid_input = False\n",
    "            break\n",
    "    # Create list with inputs given by the user\n",
    "    if valid_input:\n",
    "        time_list = [0] * 24\n",
    "        for slot in slots:\n",
    "            start,end = map(int, slot.split('-'))\n",
    "            for i in range(start, end):\n",
    "                time_list[i] = 1\n",
    "        s = sum(time_list)\n",
    "        for i in range(24):\n",
    "            time_list[i] = time_list[i]/s\n",
    "        percent_com1 = round((EMD_list('community1.csv', time_list)*100)/(EMD_list('community2.csv', time_list)+EMD_list('community1.csv', time_list)))\n",
    "        percent_com2 = round((EMD_list('community2.csv', time_list)*100)/(EMD_list('community2.csv', time_list)+EMD_list('community1.csv', time_list)))\n",
    "        if (EMD_list('community1.csv', time_list)*100)/(EMD_list('community2.csv', time_list)+EMD_list('community1.csv', time_list)) > (EMD_list('community2.csv', time_list)*100)/(EMD_list('community2.csv', time_list)+EMD_list('community1.csv', time_list)):\n",
    "            opt = 'Community 1'\n",
    "        else:\n",
    "            opt = 'Community 2'\n",
    "        print(f'Community 1: {percent_com1}%\\nCommunity 2: {percent_com2}%\\nYour optimal community is {opt}!')\n",
    "\n",
    "        break\n",
    "\n",
    "    else:\n",
    "        print(\"Invalid input. Please enter your consumption time slots in the format 'HH - HH', where HH is an integer between 0 and 24, separated by commas. Also, make sure that each time slot has a start time which is earlier than the end time\")"
   ]
  },
  {
   "cell_type": "code",
   "execution_count": 9,
   "id": "8c653326",
   "metadata": {},
   "outputs": [],
   "source": [
    "def survey_output(survey):\n",
    "    perc_comm1 = round((EMD_file('community1.csv', survey)*100)/(EMD_file('community2.csv', survey)+EMD_file('community1.csv', survey)))\n",
    "    perc_comm2 = round((EMD_file('community2.csv', survey)*100)/(EMD_file('community2.csv', survey)+EMD_file('community1.csv', survey)))\n",
    "    if perc_comm1 > perc_comm2:\n",
    "        opt = 'Community 1'\n",
    "    else:\n",
    "        opt = 'Community 2'\n",
    "    print(f'Community 1: {perc_comm1}%\\nCommunity 2: {perc_comm2}%\\nYour optimal community is {opt}!')"
   ]
  },
  {
   "cell_type": "code",
   "execution_count": null,
   "id": "3f6cf86a",
   "metadata": {},
   "outputs": [],
   "source": []
  }
 ],
 "metadata": {
  "kernelspec": {
   "display_name": "Python 3 (ipykernel)",
   "language": "python",
   "name": "python3"
  },
  "language_info": {
   "codemirror_mode": {
    "name": "ipython",
    "version": 3
   },
   "file_extension": ".py",
   "mimetype": "text/x-python",
   "name": "python",
   "nbconvert_exporter": "python",
   "pygments_lexer": "ipython3",
   "version": "3.9.13"
  }
 },
 "nbformat": 4,
 "nbformat_minor": 5
}
