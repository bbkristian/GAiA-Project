{
 "cells": [
  {
   "cell_type": "code",
   "execution_count": 1,
   "metadata": {},
   "outputs": [],
   "source": [
    "import numpy as np\n",
    "\n",
    "def distribute_energy(production, consumptions, batteries_storage):\n",
    "    energy_distribution = []\n",
    "    energy_per_person = []\n",
    "    stored_energy = []\n",
    "    temp = 0\n",
    "    for hour in range(production.shape[1]):     \n",
    "        tot_consumption = sum(consumptions[:,hour])\n",
    "        tot_production = sum(production[:,hour])       \n",
    "        if tot_production >= tot_consumption:\n",
    "            energy_per_person = consumptions[:, hour] + temp          \n",
    "            if (hour+1) < (production.shape[1]):             \n",
    "                energy_next_hour = ((tot_production-tot_consumption) / (sum(consumptions[:,hour+1]))) * consumptions[:, hour + 1]             \n",
    "                stored_energy_per_person = energy_next_hour/sum(batteries_storage[:]) * batteries_storage[:]\n",
    "                stored_energy.append(stored_energy_per_person)\n",
    "                consumptions[:,hour+1] = consumptions[:,hour+1] - stored_energy_per_person        \n",
    "            else:\n",
    "                energy_per_person = consumptions[:,hour]\n",
    "                stored_energy.append(np.full((1,len(batteries_storage)),(tot_production - tot_consumption)))\n",
    "        else:\n",
    "            energy_per_person = (tot_production / tot_consumption) * consumptions[:, hour] + temp    \n",
    "            stored_energy_per_person = np.zeros(consumptions.shape[0])\n",
    "            stored_energy.append(stored_energy_per_person)\n",
    "        temp = stored_energy_per_person\n",
    "        energy_distribution.append(energy_per_person)\n",
    "    for i in range(consumptions.shape[0]):\n",
    "        for j in range(production.shape[1]):\n",
    "            print(f'Hei user_{i}! We suggest you to use {energy_distribution[j][i]} Kw/hh of energy in hour {j} ')\n",
    "    return energy_distribution, stored_energy\n",
    "    \n"
   ]
  }
 ],
 "metadata": {
  "kernelspec": {
   "display_name": "Python 3.11.1 64-bit",
   "language": "python",
   "name": "python3"
  },
  "language_info": {
   "codemirror_mode": {
    "name": "ipython",
    "version": 3
   },
   "file_extension": ".py",
   "mimetype": "text/x-python",
   "name": "python",
   "nbconvert_exporter": "python",
   "pygments_lexer": "ipython3",
   "version": "3.11.1"
  },
  "orig_nbformat": 4,
  "vscode": {
   "interpreter": {
    "hash": "aee8b7b246df8f9039afb4144a1f6fd8d2ca17a180786b69acc140d282b71a49"
   }
  }
 },
 "nbformat": 4,
 "nbformat_minor": 2
}
